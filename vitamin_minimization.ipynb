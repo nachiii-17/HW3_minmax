{
 "cells": [
  {
   "cell_type": "code",
   "execution_count": 4,
   "metadata": {
    "colab": {
     "base_uri": "https://localhost:8080/"
    },
    "id": "DXCdRDNlskBl",
    "outputId": "815235ff-5b7b-4ff9-8c44-946950346863"
   },
   "outputs": [
    {
     "name": "stderr",
     "output_type": "stream",
     "text": [
      "'apt-get' is not recognized as an internal or external command,\n",
      "operable program or batch file.\n"
     ]
    },
    {
     "name": "stdout",
     "output_type": "stream",
     "text": [
      "Requirement already satisfied: pulp in c:\\users\\nachiket\\anaconda3\\lib\\site-packages (3.1.1)\n",
      "Requirement already satisfied: pandas in c:\\users\\nachiket\\anaconda3\\lib\\site-packages (2.2.2)\n",
      "Requirement already satisfied: numpy>=1.26.0 in c:\\users\\nachiket\\anaconda3\\lib\\site-packages (from pandas) (1.26.4)\n",
      "Requirement already satisfied: python-dateutil>=2.8.2 in c:\\users\\nachiket\\anaconda3\\lib\\site-packages (from pandas) (2.9.0.post0)\n",
      "Requirement already satisfied: pytz>=2020.1 in c:\\users\\nachiket\\anaconda3\\lib\\site-packages (from pandas) (2024.1)\n",
      "Requirement already satisfied: tzdata>=2022.7 in c:\\users\\nachiket\\anaconda3\\lib\\site-packages (from pandas) (2023.3)\n",
      "Requirement already satisfied: six>=1.5 in c:\\users\\nachiket\\anaconda3\\lib\\site-packages (from python-dateutil>=2.8.2->pandas) (1.16.0)\n",
      "Model Status: Optimal\n",
      "\n",
      "Optimal Solution:\n",
      "                                  Value\n",
      "Optimal Solution to minimize cost  0.44\n",
      "SupplementA                        4.00\n",
      "SupplementB                        8.00\n",
      "\n",
      "Sensitivity Analysis:\n",
      "            shadow price  slack\n",
      "constraints                    \n",
      "VitaminX            0.02  -0.00\n",
      "VitaminY            0.01  -0.00\n",
      "VitaminZ            0.00  -4.00\n"
     ]
    }
   ],
   "source": [
    "# Vitamin Supplements Minimization Problem\n",
    "# Install required packages\n",
    "!apt-get install -y -qq glpk-utils\n",
    "!pip install pulp pandas\n",
    "\n",
    "# Import required packages\n",
    "import pulp as pp\n",
    "import pandas as pd\n",
    "\n",
    "# Initialize the MODEL (Minimization this time)\n",
    "model = pp.LpProblem(name='vitamin-problem', sense=pp.LpMinimize)\n",
    "\n",
    "# Declare the VARIABLES (two types of vitamin supplements)\n",
    "SupplementA = pp.LpVariable(name=\"SupplementA\", lowBound=0, cat='Continuous')\n",
    "SupplementB = pp.LpVariable(name=\"SupplementB\", lowBound=0, cat='Continuous')\n",
    "\n",
    "# Cost coefficients (cost per unit of each supplement)\n",
    "CostA = 0.05  # $0.05 per unit of Supplement A\n",
    "CostB = 0.03  # $0.03 per unit of Supplement B\n",
    "\n",
    "# Objective function (minimize total cost)\n",
    "obj_func = CostA * SupplementA + CostB * SupplementB\n",
    "\n",
    "# CONSTRAINTS (nutritional requirements)\n",
    "# Vitamin X requirement: 2*A + 1*B >= 16\n",
    "C1 = pp.LpConstraint(name='VitaminX',\n",
    "                    e= 2*SupplementA + 1*SupplementB,\n",
    "                    rhs=16,\n",
    "                    sense=pp.LpConstraintGE)\n",
    "\n",
    "# Vitamin Y requirement: 1*A + 1*B >= 12\n",
    "C2 = pp.LpConstraint(name='VitaminY',\n",
    "                    e= 1*SupplementA + 1*SupplementB,\n",
    "                    rhs=12,\n",
    "                    sense=pp.LpConstraintGE)\n",
    "\n",
    "# Vitamin Z requirement: 1*A + 3*B >= 24\n",
    "C3 = pp.LpConstraint(name='VitaminZ',\n",
    "                    e= 1*SupplementA + 3*SupplementB,\n",
    "                    rhs=24,\n",
    "                    sense=pp.LpConstraintGE)\n",
    "\n",
    "# Build MODEL\n",
    "model += obj_func\n",
    "model += C1\n",
    "model += C2\n",
    "model += C3\n",
    "\n",
    "# Solve the MODEL\n",
    "model.solve()\n",
    "\n",
    "# Basic Report\n",
    "print(\"Model Status:\", pp.LpStatus[model.status])\n",
    "\n",
    "# Get results\n",
    "Results = {\n",
    "    \"Optimal Solution to minimize cost\": pp.value(model.objective),\n",
    "    \"SupplementA\": SupplementA.varValue,\n",
    "    \"SupplementB\": SupplementB.varValue\n",
    "}\n",
    "\n",
    "# Display results\n",
    "print(\"\\nOptimal Solution:\")\n",
    "print(pd.DataFrame.from_dict(Results, orient='index', columns=['Value']).map('{:,.2f}'.format))\n",
    "\n",
    "# Sensitivity Analysis\n",
    "print(\"\\nSensitivity Analysis:\")\n",
    "sensitivityValues = [{'constraints': name, 'shadow price': c.pi, 'slack': c.slack}\n",
    "                    for name, c in model.constraints.items()]\n",
    "print(pd.DataFrame(sensitivityValues).set_index('constraints').map('{:,.2f}'.format))"
   ]
  },
  {
   "cell_type": "code",
   "execution_count": null,
   "metadata": {},
   "outputs": [],
   "source": []
  }
 ],
 "metadata": {
  "colab": {
   "provenance": []
  },
  "kernelspec": {
   "display_name": "Python 3 (ipykernel)",
   "language": "python",
   "name": "python3"
  },
  "language_info": {
   "codemirror_mode": {
    "name": "ipython",
    "version": 3
   },
   "file_extension": ".py",
   "mimetype": "text/x-python",
   "name": "python",
   "nbconvert_exporter": "python",
   "pygments_lexer": "ipython3",
   "version": "3.12.7"
  }
 },
 "nbformat": 4,
 "nbformat_minor": 4
}
